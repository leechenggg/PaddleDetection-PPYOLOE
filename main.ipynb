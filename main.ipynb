{
 "cells": [
  {
   "cell_type": "markdown",
   "metadata": {},
   "source": [
    "## 一、项目背景\n",
    "飞桨框架中的[PaddleDetection](https://github.com/PaddlePaddle/PaddleDetection)套件可以很好的帮助我们解决目标检测任务.\n",
    "\n",
    "[PP-YOLOE](https://github.com/PaddlePaddle/PaddleDetection/tree/release/2.5/configs/ppyoloe)是基于PP-YOLOv2的卓越的单阶段Anchor-free模型，超越了多种流行的YOLO模型。PP-YOLOE有一系列的模型，即s/m/l/x，可以通过width multiplier和depth multiplier配置。PP-YOLOE避免了使用诸如Deformable Convolution或者Matrix NMS之类的特殊算子，以使其能轻松地部署在多种多样的硬件上，总结下来，PPYOLOE模型就是又快又好。\n",
    "#### **因此，本文采用PaddleDetection套件中的PP-YOLOE模型在钢铁缺陷检测数据集中进行训练与推理**\n",
    "根据PaddleDetection给出的云端模型性能对比，各模型结构和骨干网络的代表模型在COCO数据集上精度mAP和单卡Tesla V100上预测速度(FPS)对比图如下：\n",
    "\n",
    "![https://gitee.com/paddlepaddle/PaddleDetection/raw/develop/docs/images/fps_map.png](https://gitee.com/paddlepaddle/PaddleDetection/raw/develop/docs/images/fps_map.png)\n",
    "\n"
   ]
  },
  {
   "cell_type": "markdown",
   "metadata": {},
   "source": [
    "## 二、环境准备\n",
    "### 2.1 数据准备\n",
    "本次采用钢铁缺陷检测数据集COCO格式进行训练\n"
   ]
  },
  {
   "cell_type": "code",
   "execution_count": null,
   "metadata": {
    "scrolled": true,
    "tags": []
   },
   "outputs": [],
   "source": [
    "# 解压数据集（仅运行一次）\n",
    "!tar -xvf data/data206842/NEU-DET-coco.tar -C ./data/"
   ]
  },
  {
   "cell_type": "code",
   "execution_count": null,
   "metadata": {
    "scrolled": true,
    "tags": []
   },
   "outputs": [],
   "source": [
    "!unzip data/data165665/dataset.zip -d ./work/"
   ]
  },
  {
   "cell_type": "code",
   "execution_count": 6,
   "metadata": {
    "execution": {
     "iopub.execute_input": "2023-04-07T14:36:32.669088Z",
     "iopub.status.busy": "2023-04-07T14:36:32.667821Z",
     "iopub.status.idle": "2023-04-07T14:36:33.361969Z",
     "shell.execute_reply": "2023-04-07T14:36:33.360780Z",
     "shell.execute_reply.started": "2023-04-07T14:36:32.669041Z"
    },
    "scrolled": true
   },
   "outputs": [],
   "source": [
    "# 组织数据目录\n",
    "!mkdir MyDataset\n",
    "!mkdir MyDataset/JPEGImages\n",
    "!mkdir MyDataset/annotations"
   ]
  },
  {
   "cell_type": "code",
   "execution_count": 7,
   "metadata": {
    "execution": {
     "iopub.execute_input": "2023-04-07T14:39:06.267757Z",
     "iopub.status.busy": "2023-04-07T14:39:06.267132Z",
     "iopub.status.idle": "2023-04-07T14:39:07.234136Z",
     "shell.execute_reply": "2023-04-07T14:39:07.232938Z",
     "shell.execute_reply.started": "2023-04-07T14:39:06.267714Z"
    },
    "scrolled": true
   },
   "outputs": [],
   "source": [
    "!mv data/NEU-DET-COCO/train/* MyDataset/JPEGImages/\n",
    "!mv data/NEU-DET-COCO/test/* MyDataset/JPEGImages/\n",
    "!mv data/NEU-DET-COCO/val/* MyDataset/JPEGImages/\n",
    "!mv data/NEU-DET-COCO/annotations/* MyDataset/annotations/"
   ]
  },
  {
   "cell_type": "markdown",
   "metadata": {},
   "source": [
    "### 2.2 安装PaddleDetection以及依赖"
   ]
  },
  {
   "cell_type": "code",
   "execution_count": null,
   "metadata": {
    "scrolled": true,
    "tags": []
   },
   "outputs": [],
   "source": [
    "!pip install paddlex"
   ]
  },
  {
   "cell_type": "code",
   "execution_count": null,
   "metadata": {
    "execution": {
     "iopub.execute_input": "2023-04-18T01:43:36.956639Z",
     "iopub.status.busy": "2023-04-18T01:43:36.956023Z"
    },
    "scrolled": true,
    "tags": []
   },
   "outputs": [
    {
     "name": "stdout",
     "output_type": "stream",
     "text": [
      "正克隆到 'PaddleDetection'...\r\n",
      "remote: Enumerating objects: 257246, done.\u001b[K\r\n",
      "remote: Counting objects: 100% (2243/2243), done.\u001b[K\r\n",
      "remote: Compressing objects: 100% (1303/1303), done.\u001b[K\r\n",
      "接收对象中:  75% (193018/257246), 390.43 MiB | 56.00 KiB/s    \r\n"
     ]
    }
   ],
   "source": [
    "!git clone https://gitee.com/paddlepaddle/PaddleDetection.git -b release/2.5"
   ]
  },
  {
   "cell_type": "code",
   "execution_count": 39,
   "metadata": {
    "execution": {
     "iopub.execute_input": "2023-04-20T09:02:03.885131Z",
     "iopub.status.busy": "2023-04-20T09:02:03.884564Z",
     "iopub.status.idle": "2023-04-20T09:02:03.890792Z",
     "shell.execute_reply": "2023-04-20T09:02:03.890205Z",
     "shell.execute_reply.started": "2023-04-20T09:02:03.885100Z"
    },
    "scrolled": true
   },
   "outputs": [
    {
     "name": "stdout",
     "output_type": "stream",
     "text": [
      "/home/aistudio\r\n"
     ]
    }
   ],
   "source": [
    "%cd ~"
   ]
  },
  {
   "cell_type": "code",
   "execution_count": 2,
   "metadata": {
    "execution": {
     "iopub.execute_input": "2023-04-29T13:14:37.548508Z",
     "iopub.status.busy": "2023-04-29T13:14:37.547979Z",
     "iopub.status.idle": "2023-04-29T13:14:37.553516Z",
     "shell.execute_reply": "2023-04-29T13:14:37.552840Z",
     "shell.execute_reply.started": "2023-04-29T13:14:37.548478Z"
    },
    "scrolled": true
   },
   "outputs": [
    {
     "name": "stdout",
     "output_type": "stream",
     "text": [
      "/home/aistudio/PaddleDetection\r\n"
     ]
    }
   ],
   "source": [
    "%cd PaddleDetection"
   ]
  },
  {
   "cell_type": "code",
   "execution_count": null,
   "metadata": {
    "scrolled": true,
    "tags": []
   },
   "outputs": [],
   "source": [
    "# 安装依赖\n",
    "!pip install -r requirements.txt --user\n",
    "!python setup.py install --user"
   ]
  },
  {
   "cell_type": "markdown",
   "metadata": {},
   "source": [
    "## 三、模型选型\n",
    "PaddleDetection提供了多种模型进行选择，具体的模型选型可以根据自己数据集的情况选取精度与速度相适应的模型，本次采用**ppyoloe_crn_l_300e_coco**\n",
    "\n",
    "\n",
    "### 3.1 找到配置文件\n",
    "配置文件在PaddleDetection/configs/ppyoloe/ppyoloe_crn_l_300e_coco.yml，主要包含五个部分，为了方便更改，将其copy到根目录下\n",
    "![](https://ai-studio-static-online.cdn.bcebos.com/5012b253517d440e965a66b000ae1a31a3500764fb3c4cb389345c3295502e28)\n",
    "\n",
    "### 3.2 修改配置文件\n",
    "> 找到配置文件后，需要对其进行修改，参考链接https://github.com/PaddlePaddle/PaddleDetection/blob/release/2.6/docs/advanced_tutorials/customization/detection.md\n",
    "\n",
    "在这里主要修改：\n",
    "* 预训练模型改为  pretrain_weights: https://paddledet.bj.bcebos.com/models/ppyoloe_crn_l_300e_coco.pdparams  加速模型收敛\n",
    "*  coco_detection 文件修改数据集路径\n",
    "* 学习率训练轮数等超参数"
   ]
  },
  {
   "cell_type": "code",
   "execution_count": 4,
   "metadata": {
    "execution": {
     "iopub.execute_input": "2023-04-29T10:20:06.073548Z",
     "iopub.status.busy": "2023-04-29T10:20:06.072556Z",
     "iopub.status.idle": "2023-04-29T10:20:08.391869Z",
     "shell.execute_reply": "2023-04-29T10:20:08.390093Z",
     "shell.execute_reply.started": "2023-04-29T10:20:06.073515Z"
    },
    "scrolled": true
   },
   "outputs": [],
   "source": [
    "# 训练配置文件覆盖\n",
    "!cp ../ppyoloe_crn_l_300e_coco.yml configs/ppyoloe/ppyoloe_crn_l_300e_coco.yml\n",
    "!cp ../coco_detection.yml configs/datasets/coco_detection.yml\n",
    "!cp ../runtime.yml configs/runtime.yml\n",
    "!cp ../optimizer_300e.yml configs/ppyoloe/_base_/optimizer_300e.yml\n",
    "!cp ../ppyoloe_crn.yml configs/ppyoloe/_base_/ppyoloe_crn.yml\n",
    "!cp ../ppyoloe_reader.yml configs/ppyoloe/_base_/ppyoloe_reader.yml"
   ]
  },
  {
   "cell_type": "markdown",
   "metadata": {},
   "source": [
    "## 四、模型训练\n",
    "训练100轮map为0.44"
   ]
  },
  {
   "cell_type": "code",
   "execution_count": 6,
   "metadata": {
    "execution": {
     "iopub.execute_input": "2023-04-20T07:45:44.070489Z",
     "iopub.status.busy": "2023-04-20T07:45:44.070035Z",
     "iopub.status.idle": "2023-04-20T08:02:44.918676Z",
     "shell.execute_reply": "2023-04-20T08:02:44.917282Z",
     "shell.execute_reply.started": "2023-04-20T07:45:44.070462Z"
    },
    "scrolled": true,
    "tags": []
   },
   "outputs": [
    {
     "name": "stdout",
     "output_type": "stream",
     "text": [
      "loading annotations into memory...\r\n",
      "Done (t=0.01s)\r\n",
      "creating index...\r\n",
      "index created!\r\n",
      "W0420 15:45:46.919328 22617 gpu_resources.cc:61] Please NOTE: device: 0, GPU Compute Capability: 8.0, Driver API Version: 11.2, Runtime API Version: 11.2\r\n",
      "W0420 15:45:46.922601 22617 gpu_resources.cc:91] device: 0, cuDNN Version: 8.2.\r\n",
      "[04/20 15:45:50] ppdet.utils.checkpoint INFO: Finish resuming model weights: output/ppyoloe_crn_l_300e_coco/best_model.pdparams\r\n",
      "[04/20 15:45:54] ppdet.engine INFO: Epoch: [85] [  0/157] learning_rate: 0.000075 loss: 1.601687 loss_cls: 0.848021 loss_iou: 0.115048 loss_dfl: 0.932090 loss_l1: 0.390656 eta: 2:10:25 batch_cost: 3.3231 data_cost: 0.0003 ips: 2.4074 images/s\r\n",
      "[04/20 15:46:13] ppdet.engine INFO: Epoch: [85] [ 50/157] learning_rate: 0.000072 loss: 1.775180 loss_cls: 0.918659 loss_iou: 0.154577 loss_dfl: 0.987777 loss_l1: 0.496141 eta: 0:14:57 batch_cost: 0.3306 data_cost: 0.0012 ips: 24.1993 images/s\r\n",
      "[04/20 15:46:33] ppdet.engine INFO: Epoch: [85] [100/157] learning_rate: 0.000069 loss: 1.857204 loss_cls: 0.935995 loss_iou: 0.163998 loss_dfl: 0.996324 loss_l1: 0.509678 eta: 0:13:37 batch_cost: 0.3351 data_cost: 0.0005 ips: 23.8731 images/s\r\n",
      "[04/20 15:46:52] ppdet.engine INFO: Epoch: [85] [150/157] learning_rate: 0.000066 loss: 1.915194 loss_cls: 0.978481 loss_iou: 0.166540 loss_dfl: 1.013878 loss_l1: 0.578016 eta: 0:13:10 batch_cost: 0.3500 data_cost: 0.0013 ips: 22.8599 images/s\r\n",
      "[04/20 15:46:56] ppdet.engine INFO: Epoch: [86] [  0/157] learning_rate: 0.000066 loss: 1.904204 loss_cls: 0.960715 loss_iou: 0.165191 loss_dfl: 1.007857 loss_l1: 0.583923 eta: 0:13:11 batch_cost: 0.3615 data_cost: 0.0098 ips: 22.1303 images/s\r\n",
      "[04/20 15:47:17] ppdet.engine INFO: Epoch: [86] [ 50/157] learning_rate: 0.000063 loss: 1.875967 loss_cls: 0.983343 loss_iou: 0.160632 loss_dfl: 1.014756 loss_l1: 0.590801 eta: 0:12:53 batch_cost: 0.3596 data_cost: 0.0018 ips: 22.2459 images/s\r\n",
      "[04/20 15:47:36] ppdet.engine INFO: Epoch: [86] [100/157] learning_rate: 0.000060 loss: 1.832173 loss_cls: 0.918677 loss_iou: 0.162904 loss_dfl: 0.944351 loss_l1: 0.510854 eta: 0:12:26 batch_cost: 0.3381 data_cost: 0.0012 ips: 23.6594 images/s\r\n",
      "[04/20 15:47:55] ppdet.engine INFO: Epoch: [86] [150/157] learning_rate: 0.000057 loss: 1.856912 loss_cls: 0.942182 loss_iou: 0.156338 loss_dfl: 0.992378 loss_l1: 0.538666 eta: 0:11:58 batch_cost: 0.3256 data_cost: 0.0015 ips: 24.5694 images/s\r\n",
      "[04/20 15:47:59] ppdet.engine INFO: Epoch: [87] [  0/157] learning_rate: 0.000057 loss: 1.895988 loss_cls: 0.955359 loss_iou: 0.160345 loss_dfl: 0.992378 loss_l1: 0.560542 eta: 0:12:01 batch_cost: 0.3407 data_cost: 0.0154 ips: 23.4827 images/s\r\n",
      "[04/20 15:48:21] ppdet.engine INFO: Epoch: [87] [ 50/157] learning_rate: 0.000054 loss: 1.829361 loss_cls: 0.948529 loss_iou: 0.162033 loss_dfl: 0.953672 loss_l1: 0.651019 eta: 0:11:49 batch_cost: 0.3744 data_cost: 0.0032 ips: 21.3654 images/s\r\n",
      "[04/20 15:48:40] ppdet.engine INFO: Epoch: [87] [100/157] learning_rate: 0.000052 loss: 1.858823 loss_cls: 0.950694 loss_iou: 0.163341 loss_dfl: 0.957552 loss_l1: 0.575374 eta: 0:11:29 batch_cost: 0.3457 data_cost: 0.0012 ips: 23.1415 images/s\r\n",
      "[04/20 15:49:00] ppdet.engine INFO: Epoch: [87] [150/157] learning_rate: 0.000049 loss: 1.857942 loss_cls: 0.968401 loss_iou: 0.156505 loss_dfl: 1.017695 loss_l1: 0.577959 eta: 0:11:09 batch_cost: 0.3462 data_cost: 0.0018 ips: 23.1060 images/s\r\n",
      "[04/20 15:49:04] ppdet.engine INFO: Epoch: [88] [  0/157] learning_rate: 0.000049 loss: 1.854700 loss_cls: 0.965352 loss_iou: 0.156505 loss_dfl: 1.003925 loss_l1: 0.563361 eta: 0:11:09 batch_cost: 0.3636 data_cost: 0.0120 ips: 22.0046 images/s\r\n",
      "[04/20 15:49:24] ppdet.engine INFO: Epoch: [88] [ 50/157] learning_rate: 0.000046 loss: 1.883556 loss_cls: 0.979788 loss_iou: 0.159876 loss_dfl: 1.019273 loss_l1: 0.573076 eta: 0:10:50 batch_cost: 0.3514 data_cost: 0.0002 ips: 22.7631 images/s\r\n",
      "[04/20 15:49:43] ppdet.engine INFO: Epoch: [88] [100/157] learning_rate: 0.000044 loss: 1.880659 loss_cls: 0.969621 loss_iou: 0.165635 loss_dfl: 0.998908 loss_l1: 0.545444 eta: 0:10:30 batch_cost: 0.3375 data_cost: 0.0003 ips: 23.7032 images/s\r\n",
      "[04/20 15:50:02] ppdet.engine INFO: Epoch: [88] [150/157] learning_rate: 0.000041 loss: 1.884668 loss_cls: 0.946690 loss_iou: 0.161852 loss_dfl: 1.025687 loss_l1: 0.537510 eta: 0:10:09 batch_cost: 0.3324 data_cost: 0.0004 ips: 24.0664 images/s\r\n",
      "[04/20 15:50:06] ppdet.engine INFO: Epoch: [89] [  0/157] learning_rate: 0.000041 loss: 1.850764 loss_cls: 0.928395 loss_iou: 0.153484 loss_dfl: 1.023330 loss_l1: 0.522890 eta: 0:10:09 batch_cost: 0.3503 data_cost: 0.0130 ips: 22.8351 images/s\r\n",
      "[04/20 15:50:26] ppdet.engine INFO: Epoch: [89] [ 50/157] learning_rate: 0.000039 loss: 1.846060 loss_cls: 0.942949 loss_iou: 0.162378 loss_dfl: 0.999126 loss_l1: 0.531213 eta: 0:09:50 batch_cost: 0.3447 data_cost: 0.0022 ips: 23.2088 images/s\r\n",
      "[04/20 15:50:46] ppdet.engine INFO: Epoch: [89] [100/157] learning_rate: 0.000036 loss: 1.874366 loss_cls: 0.978756 loss_iou: 0.163420 loss_dfl: 0.977442 loss_l1: 0.581797 eta: 0:09:33 batch_cost: 0.3556 data_cost: 0.0005 ips: 22.4969 images/s\r\n",
      "[04/20 15:51:06] ppdet.engine INFO: Epoch: [89] [150/157] learning_rate: 0.000034 loss: 1.787469 loss_cls: 0.916750 loss_iou: 0.157063 loss_dfl: 0.987091 loss_l1: 0.524642 eta: 0:09:15 batch_cost: 0.3485 data_cost: 0.0006 ips: 22.9586 images/s\r\n",
      "[04/20 15:51:12] ppdet.utils.checkpoint INFO: Save checkpoint: output/ppyoloe_crn_l_300e_coco\r\n",
      "loading annotations into memory...\r\n",
      "Done (t=0.00s)\r\n",
      "creating index...\r\n",
      "index created!\r\n",
      "loading annotations into memory...\r\n",
      "Done (t=0.00s)\r\n",
      "creating index...\r\n",
      "index created!\r\n",
      "[04/20 15:51:13] ppdet.engine INFO: Eval iter: 0\r\n",
      "[04/20 15:51:17] ppdet.engine INFO: Eval iter: 100\r\n",
      "[04/20 15:51:22] ppdet.metrics.metrics INFO: The bbox result is saved to bbox.json.\r\n",
      "loading annotations into memory...\r\n",
      "Done (t=0.00s)\r\n",
      "creating index...\r\n",
      "index created!\r\n",
      "[04/20 15:51:22] ppdet.metrics.coco_utils INFO: Start evaluate...\r\n",
      "Loading and preparing results...\r\n",
      "DONE (t=0.77s)\r\n",
      "creating index...\r\n",
      "index created!\r\n",
      "Running per image evaluation...\r\n",
      "Evaluate annotation type *bbox*\r\n",
      "DONE (t=2.94s).\r\n",
      "Accumulating evaluation results...\r\n",
      "DONE (t=0.67s).\r\n",
      " Average Precision  (AP) @[ IoU=0.50:0.95 | area=   all | maxDets=100 ] = 0.434\r\n",
      " Average Precision  (AP) @[ IoU=0.50      | area=   all | maxDets=100 ] = 0.764\r\n",
      " Average Precision  (AP) @[ IoU=0.75      | area=   all | maxDets=100 ] = 0.421\r\n",
      " Average Precision  (AP) @[ IoU=0.50:0.95 | area= small | maxDets=100 ] = 0.461\r\n",
      " Average Precision  (AP) @[ IoU=0.50:0.95 | area=medium | maxDets=100 ] = 0.382\r\n",
      " Average Precision  (AP) @[ IoU=0.50:0.95 | area= large | maxDets=100 ] = 0.593\r\n",
      " Average Recall     (AR) @[ IoU=0.50:0.95 | area=   all | maxDets=  1 ] = 0.276\r\n",
      " Average Recall     (AR) @[ IoU=0.50:0.95 | area=   all | maxDets= 10 ] = 0.582\r\n",
      " Average Recall     (AR) @[ IoU=0.50:0.95 | area=   all | maxDets=100 ] = 0.661\r\n",
      " Average Recall     (AR) @[ IoU=0.50:0.95 | area= small | maxDets=100 ] = 0.654\r\n",
      " Average Recall     (AR) @[ IoU=0.50:0.95 | area=medium | maxDets=100 ] = 0.639\r\n",
      " Average Recall     (AR) @[ IoU=0.50:0.95 | area= large | maxDets=100 ] = 0.729\r\n",
      "[04/20 15:51:27] ppdet.engine INFO: Total sample number: 360, averge FPS: 40.62604190116548\r\n",
      "[04/20 15:51:27] ppdet.engine INFO: Best test bbox ap is 0.434.\r\n",
      "[04/20 15:51:29] ppdet.utils.checkpoint INFO: Save checkpoint: output/ppyoloe_crn_l_300e_coco\r\n",
      "[04/20 15:51:29] ppdet.engine INFO: Epoch: [90] [  0/157] learning_rate: 0.000034 loss: 1.817594 loss_cls: 0.918934 loss_iou: 0.160682 loss_dfl: 0.989079 loss_l1: 0.559310 eta: 0:09:14 batch_cost: 0.3632 data_cost: 0.0008 ips: 22.0237 images/s\r\n",
      "[04/20 15:51:50] ppdet.engine INFO: Epoch: [90] [ 50/157] learning_rate: 0.000032 loss: 1.837860 loss_cls: 0.962399 loss_iou: 0.158453 loss_dfl: 0.992358 loss_l1: 0.612002 eta: 0:08:57 batch_cost: 0.3600 data_cost: 0.0027 ips: 22.2242 images/s\r\n",
      "[04/20 15:52:09] ppdet.engine INFO: Epoch: [90] [100/157] learning_rate: 0.000030 loss: 1.868787 loss_cls: 0.947392 loss_iou: 0.159713 loss_dfl: 0.992981 loss_l1: 0.532359 eta: 0:08:37 batch_cost: 0.3301 data_cost: 0.0011 ips: 24.2315 images/s\r\n",
      "[04/20 15:52:30] ppdet.engine INFO: Epoch: [90] [150/157] learning_rate: 0.000028 loss: 1.882558 loss_cls: 0.957643 loss_iou: 0.156045 loss_dfl: 0.999538 loss_l1: 0.622416 eta: 0:08:21 batch_cost: 0.3733 data_cost: 0.0017 ips: 21.4325 images/s\r\n",
      "[04/20 15:52:34] ppdet.engine INFO: Epoch: [91] [  0/157] learning_rate: 0.000027 loss: 1.897069 loss_cls: 0.971232 loss_iou: 0.155788 loss_dfl: 1.012186 loss_l1: 0.622416 eta: 0:08:20 batch_cost: 0.3853 data_cost: 0.0134 ips: 20.7638 images/s\r\n",
      "[04/20 15:52:53] ppdet.engine INFO: Epoch: [91] [ 50/157] learning_rate: 0.000026 loss: 1.851985 loss_cls: 0.947688 loss_iou: 0.164709 loss_dfl: 0.990678 loss_l1: 0.503409 eta: 0:08:01 batch_cost: 0.3384 data_cost: 0.0009 ips: 23.6418 images/s\r\n",
      "[04/20 15:53:13] ppdet.engine INFO: Epoch: [91] [100/157] learning_rate: 0.000024 loss: 1.818613 loss_cls: 0.911660 loss_iou: 0.158583 loss_dfl: 1.007360 loss_l1: 0.567514 eta: 0:07:43 batch_cost: 0.3513 data_cost: 0.0010 ips: 22.7738 images/s\r\n",
      "[04/20 15:53:34] ppdet.engine INFO: Epoch: [91] [150/157] learning_rate: 0.000022 loss: 1.890126 loss_cls: 0.999467 loss_iou: 0.159323 loss_dfl: 0.988143 loss_l1: 0.581022 eta: 0:07:26 batch_cost: 0.3596 data_cost: 0.0011 ips: 22.2444 images/s\r\n",
      "[04/20 15:53:37] ppdet.engine INFO: Epoch: [92] [  0/157] learning_rate: 0.000022 loss: 1.856018 loss_cls: 0.952079 loss_iou: 0.157037 loss_dfl: 1.001083 loss_l1: 0.550467 eta: 0:07:24 batch_cost: 0.3634 data_cost: 0.0127 ips: 22.0115 images/s\r\n",
      "[04/20 15:53:57] ppdet.engine INFO: Epoch: [92] [ 50/157] learning_rate: 0.000020 loss: 1.824236 loss_cls: 0.935680 loss_iou: 0.154634 loss_dfl: 0.979843 loss_l1: 0.583692 eta: 0:07:05 batch_cost: 0.3403 data_cost: 0.0006 ips: 23.5077 images/s\r\n",
      "[04/20 15:54:17] ppdet.engine INFO: Epoch: [92] [100/157] learning_rate: 0.000018 loss: 1.815436 loss_cls: 0.917788 loss_iou: 0.160548 loss_dfl: 0.994645 loss_l1: 0.551832 eta: 0:06:48 batch_cost: 0.3479 data_cost: 0.0007 ips: 22.9984 images/s\r\n",
      "[04/20 15:54:36] ppdet.engine INFO: Epoch: [92] [150/157] learning_rate: 0.000017 loss: 1.858271 loss_cls: 0.926869 loss_iou: 0.165982 loss_dfl: 0.998828 loss_l1: 0.550637 eta: 0:06:29 batch_cost: 0.3437 data_cost: 0.0009 ips: 23.2776 images/s\r\n",
      "[04/20 15:54:40] ppdet.engine INFO: Epoch: [93] [  0/157] learning_rate: 0.000017 loss: 1.858271 loss_cls: 0.920781 loss_iou: 0.162060 loss_dfl: 1.007018 loss_l1: 0.560427 eta: 0:06:28 batch_cost: 0.3677 data_cost: 0.0168 ips: 21.7586 images/s\r\n",
      "[04/20 15:55:01] ppdet.engine INFO: Epoch: [93] [ 50/157] learning_rate: 0.000015 loss: 1.872194 loss_cls: 0.961618 loss_iou: 0.159063 loss_dfl: 0.971784 loss_l1: 0.581624 eta: 0:06:10 batch_cost: 0.3566 data_cost: 0.0008 ips: 22.4326 images/s\r\n",
      "[04/20 15:55:20] ppdet.engine INFO: Epoch: [93] [100/157] learning_rate: 0.000014 loss: 1.832606 loss_cls: 0.934249 loss_iou: 0.155283 loss_dfl: 0.999933 loss_l1: 0.509336 eta: 0:05:52 batch_cost: 0.3441 data_cost: 0.0002 ips: 23.2490 images/s\r\n",
      "[04/20 15:55:39] ppdet.engine INFO: Epoch: [93] [150/157] learning_rate: 0.000012 loss: 1.872978 loss_cls: 0.932378 loss_iou: 0.161693 loss_dfl: 0.995827 loss_l1: 0.543688 eta: 0:05:34 batch_cost: 0.3356 data_cost: 0.0004 ips: 23.8389 images/s\r\n",
      "[04/20 15:55:43] ppdet.engine INFO: Epoch: [94] [  0/157] learning_rate: 0.000012 loss: 1.872978 loss_cls: 0.932378 loss_iou: 0.162921 loss_dfl: 0.995827 loss_l1: 0.543688 eta: 0:05:32 batch_cost: 0.3520 data_cost: 0.0114 ips: 22.7277 images/s\r\n",
      "[04/20 15:56:03] ppdet.engine INFO: Epoch: [94] [ 50/157] learning_rate: 0.000011 loss: 1.857579 loss_cls: 0.933661 loss_iou: 0.169100 loss_dfl: 1.004795 loss_l1: 0.577385 eta: 0:05:14 batch_cost: 0.3426 data_cost: 0.0004 ips: 23.3478 images/s\r\n",
      "[04/20 15:56:23] ppdet.engine INFO: Epoch: [94] [100/157] learning_rate: 0.000010 loss: 1.857548 loss_cls: 0.964541 loss_iou: 0.164633 loss_dfl: 0.978317 loss_l1: 0.585849 eta: 0:04:56 batch_cost: 0.3555 data_cost: 0.0003 ips: 22.5028 images/s\r\n",
      "[04/20 15:56:43] ppdet.engine INFO: Epoch: [94] [150/157] learning_rate: 0.000009 loss: 1.852622 loss_cls: 0.945736 loss_iou: 0.162572 loss_dfl: 0.969587 loss_l1: 0.539072 eta: 0:04:39 batch_cost: 0.3580 data_cost: 0.0006 ips: 22.3481 images/s\r\n",
      "[04/20 15:56:48] ppdet.utils.checkpoint INFO: Save checkpoint: output/ppyoloe_crn_l_300e_coco\r\n",
      "[04/20 15:56:48] ppdet.engine INFO: Eval iter: 0\r\n",
      "[04/20 15:56:53] ppdet.engine INFO: Eval iter: 100\r\n",
      "[04/20 15:56:59] ppdet.metrics.metrics INFO: The bbox result is saved to bbox.json.\r\n",
      "loading annotations into memory...\r\n",
      "Done (t=0.00s)\r\n",
      "creating index...\r\n",
      "index created!\r\n",
      "[04/20 15:56:59] ppdet.metrics.coco_utils INFO: Start evaluate...\r\n",
      "Loading and preparing results...\r\n",
      "DONE (t=0.78s)\r\n",
      "creating index...\r\n",
      "index created!\r\n",
      "Running per image evaluation...\r\n",
      "Evaluate annotation type *bbox*\r\n",
      "DONE (t=2.98s).\r\n",
      "Accumulating evaluation results...\r\n",
      "DONE (t=0.69s).\r\n",
      " Average Precision  (AP) @[ IoU=0.50:0.95 | area=   all | maxDets=100 ] = 0.432\r\n",
      " Average Precision  (AP) @[ IoU=0.50      | area=   all | maxDets=100 ] = 0.764\r\n",
      " Average Precision  (AP) @[ IoU=0.75      | area=   all | maxDets=100 ] = 0.418\r\n",
      " Average Precision  (AP) @[ IoU=0.50:0.95 | area= small | maxDets=100 ] = 0.458\r\n",
      " Average Precision  (AP) @[ IoU=0.50:0.95 | area=medium | maxDets=100 ] = 0.380\r\n",
      " Average Precision  (AP) @[ IoU=0.50:0.95 | area= large | maxDets=100 ] = 0.591\r\n",
      " Average Recall     (AR) @[ IoU=0.50:0.95 | area=   all | maxDets=  1 ] = 0.277\r\n",
      " Average Recall     (AR) @[ IoU=0.50:0.95 | area=   all | maxDets= 10 ] = 0.575\r\n",
      " Average Recall     (AR) @[ IoU=0.50:0.95 | area=   all | maxDets=100 ] = 0.657\r\n",
      " Average Recall     (AR) @[ IoU=0.50:0.95 | area= small | maxDets=100 ] = 0.646\r\n",
      " Average Recall     (AR) @[ IoU=0.50:0.95 | area=medium | maxDets=100 ] = 0.634\r\n",
      " Average Recall     (AR) @[ IoU=0.50:0.95 | area= large | maxDets=100 ] = 0.726\r\n",
      "[04/20 15:57:03] ppdet.engine INFO: Total sample number: 360, averge FPS: 40.08432325016911\r\n",
      "[04/20 15:57:03] ppdet.engine INFO: Best test bbox ap is 0.434.\r\n",
      "[04/20 15:57:04] ppdet.engine INFO: Epoch: [95] [  0/157] learning_rate: 0.000009 loss: 1.854447 loss_cls: 0.957001 loss_iou: 0.161271 loss_dfl: 0.969587 loss_l1: 0.588739 eta: 0:04:36 batch_cost: 0.3599 data_cost: 0.0008 ips: 22.2253 images/s\r\n",
      "[04/20 15:57:23] ppdet.engine INFO: Epoch: [95] [ 50/157] learning_rate: 0.000007 loss: 1.752524 loss_cls: 0.897110 loss_iou: 0.155539 loss_dfl: 0.953239 loss_l1: 0.532228 eta: 0:04:19 batch_cost: 0.3438 data_cost: 0.0015 ips: 23.2670 images/s\r\n",
      "[04/20 15:57:42] ppdet.engine INFO: Epoch: [95] [100/157] learning_rate: 0.000006 loss: 1.844498 loss_cls: 0.939010 loss_iou: 0.158151 loss_dfl: 0.989972 loss_l1: 0.492867 eta: 0:04:01 batch_cost: 0.3321 data_cost: 0.0013 ips: 24.0876 images/s\r\n",
      "[04/20 15:58:03] ppdet.engine INFO: Epoch: [95] [150/157] learning_rate: 0.000006 loss: 1.842106 loss_cls: 0.936020 loss_iou: 0.160866 loss_dfl: 0.967360 loss_l1: 0.534500 eta: 0:03:43 batch_cost: 0.3662 data_cost: 0.0010 ips: 21.8436 images/s\r\n",
      "[04/20 15:58:08] ppdet.engine INFO: Epoch: [96] [  0/157] learning_rate: 0.000005 loss: 1.840987 loss_cls: 0.939380 loss_iou: 0.164117 loss_dfl: 0.960270 loss_l1: 0.558159 eta: 0:03:41 batch_cost: 0.3943 data_cost: 0.0158 ips: 20.2899 images/s\r\n",
      "[04/20 15:58:27] ppdet.engine INFO: Epoch: [96] [ 50/157] learning_rate: 0.000005 loss: 1.876605 loss_cls: 0.981128 loss_iou: 0.163158 loss_dfl: 0.995277 loss_l1: 0.542314 eta: 0:03:23 batch_cost: 0.3425 data_cost: 0.0002 ips: 23.3558 images/s\r\n",
      "[04/20 15:58:46] ppdet.engine INFO: Epoch: [96] [100/157] learning_rate: 0.000004 loss: 1.705484 loss_cls: 0.870444 loss_iou: 0.146899 loss_dfl: 0.932690 loss_l1: 0.435714 eta: 0:03:05 batch_cost: 0.3378 data_cost: 0.0005 ips: 23.6841 images/s\r\n",
      "[04/20 15:59:08] ppdet.engine INFO: Epoch: [96] [150/157] learning_rate: 0.000003 loss: 1.892475 loss_cls: 0.971293 loss_iou: 0.164027 loss_dfl: 1.007747 loss_l1: 0.578422 eta: 0:02:48 batch_cost: 0.3769 data_cost: 0.0023 ips: 21.2278 images/s\r\n",
      "[04/20 15:59:12] ppdet.engine INFO: Epoch: [97] [  0/157] learning_rate: 0.000003 loss: 1.892475 loss_cls: 0.975605 loss_iou: 0.162982 loss_dfl: 1.007747 loss_l1: 0.578422 eta: 0:02:46 batch_cost: 0.3934 data_cost: 0.0138 ips: 20.3356 images/s\r\n",
      "[04/20 15:59:33] ppdet.engine INFO: Epoch: [97] [ 50/157] learning_rate: 0.000002 loss: 1.841639 loss_cls: 0.927693 loss_iou: 0.155389 loss_dfl: 0.991529 loss_l1: 0.569468 eta: 0:02:28 batch_cost: 0.3498 data_cost: 0.0020 ips: 22.8697 images/s\r\n",
      "[04/20 15:59:52] ppdet.engine INFO: Epoch: [97] [100/157] learning_rate: 0.000002 loss: 1.897281 loss_cls: 0.951264 loss_iou: 0.165256 loss_dfl: 0.999839 loss_l1: 0.537310 eta: 0:02:10 batch_cost: 0.3343 data_cost: 0.0007 ips: 23.9325 images/s\r\n",
      "[04/20 16:00:12] ppdet.engine INFO: Epoch: [97] [150/157] learning_rate: 0.000001 loss: 1.812933 loss_cls: 0.909075 loss_iou: 0.165113 loss_dfl: 0.941544 loss_l1: 0.554220 eta: 0:01:53 batch_cost: 0.3584 data_cost: 0.0010 ips: 22.3219 images/s\r\n",
      "[04/20 16:00:17] ppdet.engine INFO: Epoch: [98] [  0/157] learning_rate: 0.000001 loss: 1.821335 loss_cls: 0.914488 loss_iou: 0.166842 loss_dfl: 0.947078 loss_l1: 0.539073 eta: 0:01:51 batch_cost: 0.3782 data_cost: 0.0179 ips: 21.1535 images/s\r\n",
      "[04/20 16:00:37] ppdet.engine INFO: Epoch: [98] [ 50/157] learning_rate: 0.000001 loss: 1.807023 loss_cls: 0.923286 loss_iou: 0.160490 loss_dfl: 0.958024 loss_l1: 0.571061 eta: 0:01:33 batch_cost: 0.3569 data_cost: 0.0009 ips: 22.4130 images/s\r\n",
      "[04/20 16:00:56] ppdet.engine INFO: Epoch: [98] [100/157] learning_rate: 0.000001 loss: 1.855004 loss_cls: 0.939454 loss_iou: 0.161137 loss_dfl: 0.964614 loss_l1: 0.538292 eta: 0:01:15 batch_cost: 0.3374 data_cost: 0.0005 ips: 23.7111 images/s\r\n",
      "[04/20 16:01:17] ppdet.engine INFO: Epoch: [98] [150/157] learning_rate: 0.000000 loss: 1.841984 loss_cls: 0.943556 loss_iou: 0.159822 loss_dfl: 0.994465 loss_l1: 0.565476 eta: 0:00:57 batch_cost: 0.3670 data_cost: 0.0013 ips: 21.7962 images/s\r\n",
      "[04/20 16:01:21] ppdet.engine INFO: Epoch: [99] [  0/157] learning_rate: 0.000000 loss: 1.836552 loss_cls: 0.943556 loss_iou: 0.161252 loss_dfl: 0.992436 loss_l1: 0.593556 eta: 0:00:55 batch_cost: 0.3899 data_cost: 0.0149 ips: 20.5162 images/s\r\n",
      "[04/20 16:01:41] ppdet.engine INFO: Epoch: [99] [ 50/157] learning_rate: 0.000000 loss: 1.843588 loss_cls: 0.908915 loss_iou: 0.160057 loss_dfl: 1.020735 loss_l1: 0.547280 eta: 0:00:37 batch_cost: 0.3472 data_cost: 0.0008 ips: 23.0393 images/s\r\n",
      "[04/20 16:02:02] ppdet.engine INFO: Epoch: [99] [100/157] learning_rate: 0.000000 loss: 1.823544 loss_cls: 0.947433 loss_iou: 0.163429 loss_dfl: 0.990539 loss_l1: 0.590092 eta: 0:00:20 batch_cost: 0.3685 data_cost: 0.0008 ips: 21.7075 images/s\r\n",
      "[04/20 16:02:21] ppdet.engine INFO: Epoch: [99] [150/157] learning_rate: 0.000000 loss: 1.850341 loss_cls: 0.966663 loss_iou: 0.154457 loss_dfl: 1.016459 loss_l1: 0.527203 eta: 0:00:02 batch_cost: 0.3317 data_cost: 0.0013 ips: 24.1155 images/s\r\n",
      "[04/20 16:02:26] ppdet.utils.checkpoint INFO: Save checkpoint: output/ppyoloe_crn_l_300e_coco\r\n",
      "[04/20 16:02:26] ppdet.engine INFO: Eval iter: 0\r\n",
      "[04/20 16:02:31] ppdet.engine INFO: Eval iter: 100\r\n",
      "[04/20 16:02:37] ppdet.metrics.metrics INFO: The bbox result is saved to bbox.json.\r\n",
      "loading annotations into memory...\r\n",
      "Done (t=0.00s)\r\n",
      "creating index...\r\n",
      "index created!\r\n",
      "[04/20 16:02:37] ppdet.metrics.coco_utils INFO: Start evaluate...\r\n",
      "Loading and preparing results...\r\n",
      "DONE (t=0.81s)\r\n",
      "creating index...\r\n",
      "index created!\r\n",
      "Running per image evaluation...\r\n",
      "Evaluate annotation type *bbox*\r\n",
      "DONE (t=2.93s).\r\n",
      "Accumulating evaluation results...\r\n",
      "DONE (t=0.64s).\r\n",
      " Average Precision  (AP) @[ IoU=0.50:0.95 | area=   all | maxDets=100 ] = 0.432\r\n",
      " Average Precision  (AP) @[ IoU=0.50      | area=   all | maxDets=100 ] = 0.767\r\n",
      " Average Precision  (AP) @[ IoU=0.75      | area=   all | maxDets=100 ] = 0.418\r\n",
      " Average Precision  (AP) @[ IoU=0.50:0.95 | area= small | maxDets=100 ] = 0.456\r\n",
      " Average Precision  (AP) @[ IoU=0.50:0.95 | area=medium | maxDets=100 ] = 0.381\r\n",
      " Average Precision  (AP) @[ IoU=0.50:0.95 | area= large | maxDets=100 ] = 0.591\r\n",
      " Average Recall     (AR) @[ IoU=0.50:0.95 | area=   all | maxDets=  1 ] = 0.277\r\n",
      " Average Recall     (AR) @[ IoU=0.50:0.95 | area=   all | maxDets= 10 ] = 0.575\r\n",
      " Average Recall     (AR) @[ IoU=0.50:0.95 | area=   all | maxDets=100 ] = 0.654\r\n",
      " Average Recall     (AR) @[ IoU=0.50:0.95 | area= small | maxDets=100 ] = 0.649\r\n",
      " Average Recall     (AR) @[ IoU=0.50:0.95 | area=medium | maxDets=100 ] = 0.635\r\n",
      " Average Recall     (AR) @[ IoU=0.50:0.95 | area= large | maxDets=100 ] = 0.722\r\n",
      "[04/20 16:02:41] ppdet.engine INFO: Total sample number: 360, averge FPS: 38.69107651403765\r\n",
      "[04/20 16:02:41] ppdet.engine INFO: Best test bbox ap is 0.434.\r\n"
     ]
    }
   ],
   "source": [
    "# 开始训练\n",
    "# 恢复训练-r output/ppyoloe_crn_l_alpha_largesize_80e_visdrone/best_model \n",
    "!python tools/train.py -c configs/ppyoloe/ppyoloe_crn_l_300e_coco.yml --use_vdl=True --vdl_log_dir=./smalldet/visdrone/ --eval \\\n",
    "-r output/ppyoloe_crn_l_300e_coco/best_model.pdparams"
   ]
  },
  {
   "cell_type": "markdown",
   "metadata": {},
   "source": [
    "### 4.1 训练20轮模型评估\n",
    "![](https://ai-studio-static-online.cdn.bcebos.com/5bb02f02618d4ac4bd0020b51708bb941b88f36d794948d8ac13c836c9948079)\n"
   ]
  },
  {
   "cell_type": "markdown",
   "metadata": {},
   "source": [
    "### 4.2 可视化\n",
    "![](https://ai-studio-static-online.cdn.bcebos.com/cadd60186efe4491b4c9bd5c4ff951141d4ef6c726fd4bb6b3bc9bbfff170408)\n",
    "![](https://ai-studio-static-online.cdn.bcebos.com/63d943f5926a4c1e932f86c6b4d203b2576a78f21f414c8b9acf53d851f757e2)\n",
    "![](https://ai-studio-static-online.cdn.bcebos.com/6b8efa64f6c345a0852aed92ac40bf00bb7bc069fd4140568a854b4e2b9eef51)\n"
   ]
  },
  {
   "cell_type": "markdown",
   "metadata": {},
   "source": [
    "## 五、预测推理\n",
    "![](https://ai-studio-static-online.cdn.bcebos.com/0a0ee6d18fdc48bca3b9dfc240da33b934122b34d1de472396bf56754cb9a234)\n",
    "![](https://ai-studio-static-online.cdn.bcebos.com/6597c912ab5448ff895d288940484d4a8fb6b5a66fee4605bae9ce5e13137b61)\n",
    "![](https://ai-studio-static-online.cdn.bcebos.com/afeec94322b34dbc8c791778472ec369a1b21e884c794ce5a7c1f8ced0095b06)\n"
   ]
  },
  {
   "cell_type": "code",
   "execution_count": null,
   "metadata": {
    "scrolled": true,
    "tags": []
   },
   "outputs": [],
   "source": [
    "# 挑一张验证集的图片展示预测效果\n",
    "!python tools/infer.py \\\n",
    "-c configs/ppyoloe/ppyoloe_crn_l_300e_coco.yml \\\n",
    "-o weights=output/ppyoloe_crn_l_300e_coco/best_model \\\n",
    "--infer_img=../MyDataset/JPEGImages/rolled-in_scale_139.jpg \\\n",
    "--save_results=True"
   ]
  },
  {
   "cell_type": "code",
   "execution_count": null,
   "metadata": {
    "scrolled": true,
    "tags": []
   },
   "outputs": [],
   "source": [
    "# 批量预测\n",
    "!python tools/infer.py \\\n",
    "-c configs/ppyoloe/ppyoloe_crn_l_300e_coco.yml \\\n",
    "-o weights=output/ppyoloe_crn_l_300e_coco/best_model \\\n",
    "--infer_dir=../work/dataset/test/IMAGES/ \\\n",
    "--output_dir=../work/dataset/test/result/ \\\n",
    "--draw_threshold=0.5 \\\n",
    "--save_results=True"
   ]
  },
  {
   "cell_type": "markdown",
   "metadata": {},
   "source": [
    "## 六、部署模型"
   ]
  },
  {
   "cell_type": "markdown",
   "metadata": {},
   "source": [
    "### 6.1导出部署模型"
   ]
  },
  {
   "cell_type": "code",
   "execution_count": 3,
   "metadata": {
    "execution": {
     "iopub.execute_input": "2023-04-29T13:14:54.294360Z",
     "iopub.status.busy": "2023-04-29T13:14:54.293778Z",
     "iopub.status.idle": "2023-04-29T13:15:23.590205Z",
     "shell.execute_reply": "2023-04-29T13:15:23.589313Z",
     "shell.execute_reply.started": "2023-04-29T13:14:54.294330Z"
    },
    "scrolled": true,
    "tags": []
   },
   "outputs": [
    {
     "name": "stdout",
     "output_type": "stream",
     "text": [
      "[04/29 21:14:59] ppdet.utils.checkpoint INFO: Finish loading model weights: output/ppyoloe_crn_l_300e_coco/best_model.pdparams\r\n",
      "loading annotations into memory...\r\n",
      "Done (t=0.00s)\r\n",
      "creating index...\r\n",
      "index created!\r\n",
      "[04/29 21:15:00] ppdet.engine INFO: Export inference config file to output_inference/ppyoloe_crn_l_300e_coco/infer_cfg.yml\r\n",
      "[04/29 21:15:22] ppdet.engine INFO: Export model and saved in output_inference/ppyoloe_crn_l_300e_coco\r\n"
     ]
    }
   ],
   "source": [
    "!python tools/export_model.py \\\n",
    "-c configs/ppyoloe/ppyoloe_crn_l_300e_coco.yml \\\n",
    "-o weights=output/ppyoloe_crn_l_300e_coco/best_model"
   ]
  },
  {
   "cell_type": "markdown",
   "metadata": {},
   "source": [
    "### 6.2fastdeploy部署"
   ]
  },
  {
   "cell_type": "code",
   "execution_count": null,
   "metadata": {
    "scrolled": true,
    "tags": []
   },
   "outputs": [],
   "source": [
    "# 安装相关包\r\n",
    "!pip install numpy opencv-python fastdeploy-gpu-python -f https://www.paddlepaddle.org.cn/whl/fastdeploy.html --user"
   ]
  },
  {
   "cell_type": "code",
   "execution_count": 1,
   "metadata": {
    "execution": {
     "iopub.execute_input": "2023-04-29T12:39:02.946853Z",
     "iopub.status.busy": "2023-04-29T12:39:02.946289Z",
     "iopub.status.idle": "2023-04-29T12:39:11.115302Z",
     "shell.execute_reply": "2023-04-29T12:39:11.114411Z",
     "shell.execute_reply.started": "2023-04-29T12:39:02.946821Z"
    },
    "scrolled": true
   },
   "outputs": [
    {
     "name": "stdout",
     "output_type": "stream",
     "text": [
      "[INFO] fastdeploy/vision/common/processors/transform.cc(45)::FuseNormalizeCast\tNormalize and Cast are fused to Normalize in preprocessing pipeline.\r\n",
      "[INFO] fastdeploy/vision/common/processors/transform.cc(93)::FuseNormalizeHWC2CHW\tNormalize and HWC2CHW are fused to NormalizeAndPermute  in preprocessing pipeline.\r\n",
      "[INFO] fastdeploy/vision/common/processors/transform.cc(159)::FuseNormalizeColorConvert\tBGR2RGB and NormalizeAndPermute are fused to NormalizeAndPermute with swap_rb=1\r\n",
      "[INFO] fastdeploy/runtime/runtime.cc(293)::CreateOrtBackend\tRuntime initialized with Backend::ORT in Device::GPU.\r\n"
     ]
    },
    {
     "data": {
      "text/plain": [
       "True"
      ]
     },
     "execution_count": 1,
     "metadata": {},
     "output_type": "execute_result"
    }
   ],
   "source": [
    "# 验证部署是否正确\n",
    "import fastdeploy as fd\n",
    "import cv2\n",
    "option = fd.RuntimeOption()\n",
    "option.use_gpu()\n",
    "model = fd.vision.detection.PPYOLOE(\"/home/aistudio/PaddleDetection/output_inference/ppyoloe_crn_l_300e_coco/model.pdmodel\", \"/home/aistudio/PaddleDetection/output_inference/ppyoloe_crn_l_300e_coco/model.pdiparams\", \"/home/aistudio/PaddleDetection/output_inference/ppyoloe_crn_l_300e_coco/infer_cfg.yml\", runtime_option=option)\n",
    "\n",
    "image = cv2.imread(\"/home/aistudio/1400.jpg\")\n",
    "result = model.predict(image)\n",
    "vis_im = fd.vision.vis_detection(image, result, labels=[\"crazing\",\"inclusion\",\"patches\",\"pitted_surface\",\"rolled-in_scale\",\"scratches\"],score_threshold=0.4)\n",
    "cv2.imwrite(\"/home/aistudio/work/result.png\", vis_im)"
   ]
  },
  {
   "cell_type": "markdown",
   "metadata": {},
   "source": [
    "### 6.3运行launch/demo.gradio.py\n",
    "![](https://ai-studio-static-online.cdn.bcebos.com/067295323257490e8199761ac7538f38c9a376b6973d4cb99ed7fbcc8707934c)\n"
   ]
  }
 ],
 "metadata": {
  "kernelspec": {
   "display_name": "Python 3",
   "language": "python",
   "name": "py35-paddle1.2.0"
  },
  "language_info": {
   "codemirror_mode": {
    "name": "ipython",
    "version": 3
   },
   "file_extension": ".py",
   "mimetype": "text/x-python",
   "name": "python",
   "nbconvert_exporter": "python",
   "pygments_lexer": "ipython3",
   "version": "3.7.4"
  }
 },
 "nbformat": 4,
 "nbformat_minor": 4
}
